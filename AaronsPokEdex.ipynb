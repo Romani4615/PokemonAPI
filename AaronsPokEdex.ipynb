{
 "cells": [
  {
   "cell_type": "code",
   "execution_count": 1,
   "id": "b13dbc0a",
   "metadata": {},
   "outputs": [
    {
     "name": "stdout",
     "output_type": "stream",
     "text": [
      "<Response [200]>\n",
      "Pokemon Info:\n",
      "{'Name': 'ditto', 'Ability_1': 'limber', 'ability_2': 'imposter', 'Weight': 40, 'Type': 'normal'}\n",
      "<Response [200]>\n",
      "Pokemon Info:\n",
      "{'Name': 'charizard', 'Ability_1': 'blaze', 'ability_2': 'solar-power', 'Weight': 905, 'Type': 'fire'}\n",
      "<Response [200]>\n",
      "Pokemon Info:\n",
      "{'Name': 'pikachu', 'Ability_1': 'static', 'ability_2': 'lightning-rod', 'Weight': 60, 'Type': 'electric'}\n",
      "<Response [200]>\n",
      "Pokemon Info:\n",
      "{'Name': 'blastoise', 'Ability_1': 'torrent', 'ability_2': 'rain-dish', 'Weight': 855, 'Type': 'water'}\n",
      "<Response [200]>\n",
      "Pokemon Info:\n",
      "{'Name': 'scyther', 'Ability_1': 'swarm', 'ability_2': 'technician', 'Weight': 560, 'Type': 'bug'}\n",
      "<Response [200]>\n",
      "Pokemon Info:\n",
      "{'Name': 'hitmonchan', 'Ability_1': 'keen-eye', 'ability_2': 'iron-fist', 'Weight': 502, 'Type': 'fighting'}\n",
      "<Response [200]>\n",
      "Pokemon Info:\n",
      "{'Name': 'zapdos', 'Ability_1': 'pressure', 'ability_2': 'static', 'Weight': 526, 'Type': 'electric'}\n",
      "<Response [200]>\n",
      "Pokemon Info:\n",
      "{'Name': 'gyarados', 'Ability_1': 'intimidate', 'ability_2': 'moxie', 'Weight': 2350, 'Type': 'water'}\n",
      "<Response [200]>\n",
      "Pokemon Info:\n",
      "{'Name': 'lugia', 'Ability_1': 'pressure', 'ability_2': 'multiscale', 'Weight': 2160, 'Type': 'psychic'}\n",
      "<Response [200]>\n",
      "Pokemon Info:\n",
      "{'Name': 'machamp', 'Ability_1': 'guts', 'ability_2': 'no-guard', 'Weight': 1300, 'Type': 'fighting'}\n",
      "<Response [200]>\n",
      "Pokemon Info:\n",
      "{'Name': 'raichu', 'Ability_1': 'static', 'ability_2': 'lightning-rod', 'Weight': 300, 'Type': 'electric'}\n",
      "<Response [200]>\n",
      "Pokemon Info:\n",
      "{'Name': 'venusaur', 'Ability_1': 'overgrow', 'ability_2': 'chlorophyll', 'Weight': 1000, 'Type': 'grass'}\n",
      "<Response [200]>\n",
      "Pokemon Info:\n",
      "{'Name': 'magikarp', 'Ability_1': 'swift-swim', 'ability_2': 'rattled', 'Weight': 100, 'Type': 'water'}\n",
      "<Response [200]>\n",
      "Pokemon Info:\n",
      "{'Name': 'alakazam', 'Ability_1': 'synchronize', 'ability_2': 'inner-focus', 'Weight': 480, 'Type': 'psychic'}\n",
      "<Response [200]>\n",
      "Pokemon Info:\n",
      "{'Name': 'mewtwo', 'Ability_1': 'pressure', 'ability_2': 'unnerve', 'Weight': 1220, 'Type': 'psychic'}\n",
      "<Response [200]>\n",
      "Pokemon Info:\n"
     ]
    },
    {
     "ename": "IndexError",
     "evalue": "list index out of range",
     "output_type": "error",
     "traceback": [
      "\u001b[0;31m---------------------------------------------------------------------------\u001b[0m",
      "\u001b[0;31mIndexError\u001b[0m                                Traceback (most recent call last)",
      "\u001b[0;32m<ipython-input-1-1d7e16434ff0>\u001b[0m in \u001b[0;36m<module>\u001b[0;34m\u001b[0m\n\u001b[1;32m     16\u001b[0m         \u001b[0mnames\u001b[0m \u001b[0;34m=\u001b[0m \u001b[0mpokemon_dict\u001b[0m\u001b[0;34m[\u001b[0m\u001b[0;34m'Name'\u001b[0m\u001b[0;34m]\u001b[0m \u001b[0;34m=\u001b[0m \u001b[0mdata\u001b[0m\u001b[0;34m[\u001b[0m\u001b[0;34m'forms'\u001b[0m\u001b[0;34m]\u001b[0m\u001b[0;34m[\u001b[0m\u001b[0;36m0\u001b[0m\u001b[0;34m]\u001b[0m\u001b[0;34m[\u001b[0m\u001b[0;34m'name'\u001b[0m\u001b[0;34m]\u001b[0m\u001b[0;34m\u001b[0m\u001b[0;34m\u001b[0m\u001b[0m\n\u001b[1;32m     17\u001b[0m         \u001b[0mability1\u001b[0m \u001b[0;34m=\u001b[0m \u001b[0mpokemon_dict\u001b[0m\u001b[0;34m[\u001b[0m\u001b[0;34m'Ability_1'\u001b[0m\u001b[0;34m]\u001b[0m \u001b[0;34m=\u001b[0m \u001b[0mdata\u001b[0m\u001b[0;34m[\u001b[0m\u001b[0;34m'abilities'\u001b[0m\u001b[0;34m]\u001b[0m\u001b[0;34m[\u001b[0m\u001b[0;36m0\u001b[0m\u001b[0;34m]\u001b[0m\u001b[0;34m[\u001b[0m\u001b[0;34m'ability'\u001b[0m\u001b[0;34m]\u001b[0m\u001b[0;34m[\u001b[0m\u001b[0;34m'name'\u001b[0m\u001b[0;34m]\u001b[0m\u001b[0;34m\u001b[0m\u001b[0;34m\u001b[0m\u001b[0m\n\u001b[0;32m---> 18\u001b[0;31m         \u001b[0mability2\u001b[0m \u001b[0;34m=\u001b[0m\u001b[0mpokemon_dict\u001b[0m\u001b[0;34m[\u001b[0m\u001b[0;34m'ability_2'\u001b[0m\u001b[0;34m]\u001b[0m \u001b[0;34m=\u001b[0m \u001b[0mdata\u001b[0m\u001b[0;34m[\u001b[0m\u001b[0;34m'abilities'\u001b[0m\u001b[0;34m]\u001b[0m\u001b[0;34m[\u001b[0m\u001b[0;36m1\u001b[0m\u001b[0;34m]\u001b[0m\u001b[0;34m[\u001b[0m\u001b[0;34m'ability'\u001b[0m\u001b[0;34m]\u001b[0m\u001b[0;34m[\u001b[0m\u001b[0;34m'name'\u001b[0m\u001b[0;34m]\u001b[0m\u001b[0;34m\u001b[0m\u001b[0;34m\u001b[0m\u001b[0m\n\u001b[0m\u001b[1;32m     19\u001b[0m         \u001b[0;31m#pokemon_dict['ability_2'] = data['abilities'][2]['ability']['name']\u001b[0m\u001b[0;34m\u001b[0m\u001b[0;34m\u001b[0m\u001b[0;34m\u001b[0m\u001b[0m\n\u001b[1;32m     20\u001b[0m         \u001b[0mweight\u001b[0m \u001b[0;34m=\u001b[0m \u001b[0mpokemon_dict\u001b[0m\u001b[0;34m[\u001b[0m\u001b[0;34m'Weight'\u001b[0m\u001b[0;34m]\u001b[0m \u001b[0;34m=\u001b[0m \u001b[0mdata\u001b[0m\u001b[0;34m[\u001b[0m\u001b[0;34m'weight'\u001b[0m\u001b[0;34m]\u001b[0m\u001b[0;34m\u001b[0m\u001b[0;34m\u001b[0m\u001b[0m\n",
      "\u001b[0;31mIndexError\u001b[0m: list index out of range"
     ]
    }
   ],
   "source": [
    "import requests as r\n",
    "pokemon = ['ditto', 'charizard', 'pikachu', 'blastoise', 'scyther', 'hitmonchan', 'zapdos', 'gyarados', 'lugia', 'machamp', 'raichu', 'venusaur', 'magikarp', 'alakazam', 'mewtwo', 'mew', 'geodude', 'haunter', 'weedle', 'moltres', 'snorlax', 'articuno']\n",
    "\n",
    "# I want to replace each pokemon name with my pokemon dict\n",
    "# Key word there: replace - I need access to my list indexes in order to be able to change their values\n",
    "\n",
    "for index in range(len(pokemon)):\n",
    "    \n",
    "    data = r.get(f'https://pokeapi.co/api/v2/pokemon/{pokemon[index]}')\n",
    "    print(data)\n",
    "\n",
    "    if data.status_code == 200:\n",
    "        print('Pokemon Info:')\n",
    "        data = data.json()\n",
    "        pokemon_dict = {}\n",
    "        names = pokemon_dict['Name'] = data['forms'][0]['name']\n",
    "        ability1 = pokemon_dict['Ability_1'] = data['abilities'][0]['ability']['name']\n",
    "        ability2 =pokemon_dict['ability_2'] = data['abilities'][1]['ability']['name']\n",
    "        #pokemon_dict['ability_2'] = data['abilities'][2]['ability']['name']\n",
    "        weight = pokemon_dict['Weight'] = data['weight']\n",
    "        poketype = pokemon_dict['Type'] = data['types'][0]['type']['name']\n",
    "    print(pokemon_dict)\n",
    "    pokemon[index] = pokemon_dict\n",
    "    \n",
    "# ok for loop is done, we're outside of it\n",
    "pokemon"
   ]
  },
  {
   "cell_type": "code",
   "execution_count": null,
   "id": "a3c14dcf",
   "metadata": {},
   "outputs": [],
   "source": []
  }
 ],
 "metadata": {
  "kernelspec": {
   "display_name": "Python 3",
   "language": "python",
   "name": "python3"
  },
  "language_info": {
   "codemirror_mode": {
    "name": "ipython",
    "version": 3
   },
   "file_extension": ".py",
   "mimetype": "text/x-python",
   "name": "python",
   "nbconvert_exporter": "python",
   "pygments_lexer": "ipython3",
   "version": "3.8.8"
  }
 },
 "nbformat": 4,
 "nbformat_minor": 5
}
